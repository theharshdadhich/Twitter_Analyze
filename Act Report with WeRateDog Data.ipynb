{
 "cells": [
  {
   "cell_type": "markdown",
   "metadata": {},
   "source": [
    "# Act Report with WeRateDog Data\n",
    "\n",
    "### Xi Zhou"
   ]
  },
  {
   "cell_type": "markdown",
   "metadata": {},
   "source": [
    "## Data Set Intro"
   ]
  },
  {
   "cell_type": "markdown",
   "metadata": {},
   "source": [
    "* A Text Sample :\n",
    "\n",
    "\"Meet Sam. She smiles 24/7 &amp; secretly aspires to be a reindeer. \n",
    "Keep Sam smiling by clicking and sharing this link:\n",
    "https://t.co/98tB8y7y7t https://t.co/LouL5vdvxx\"   (By entering the link, you can see the post.)\n",
    "\n",
    "* This example is a good representative of the data set with a lot of issues to be fixed. \n",
    "* For example : \n",
    "* smile 24/7 ,   24/7 is taken as a rating score \n",
    "* Another problem is that it is not the original tweet but a retweet from gofundme. The user post it to ask for help but not for rate the dog. "
   ]
  },
  {
   "cell_type": "markdown",
   "metadata": {},
   "source": [
    " * A Tweet Sample"
   ]
  },
  {
   "cell_type": "markdown",
   "metadata": {},
   "source": [
    "<img src= \"tweet_sample.PNG\" >"
   ]
  },
  {
   "cell_type": "markdown",
   "metadata": {},
   "source": [
    "## Data Wrangle :"
   ]
  },
  {
   "cell_type": "markdown",
   "metadata": {},
   "source": [
    "9 quality issues and 4 tidiness issues are fixed before proceeding to data visulization and analysis  "
   ]
  },
  {
   "cell_type": "markdown",
   "metadata": {},
   "source": [
    "## Data Visulization and Data Analysis:\n",
    "1. Does dog stage ('doggo','floofer', 'pupper', 'puppo') have correlation with favorite_count and retweet_count ?\n",
    "2. Does the timestamp have relation with favorite_count and retweet_count ?\n",
    "3. What are the top breads ?"
   ]
  },
  {
   "cell_type": "markdown",
   "metadata": {},
   "source": [
    "### 1. Does dog stage ('doggo','floofer', 'pupper', 'puppo') have correlation with favorite_count and retweet_count ?"
   ]
  },
  {
   "cell_type": "markdown",
   "metadata": {},
   "source": [
    "<img src= \"The Relationship between Dog Stage and Retweet Counts & Favorite Counts.PNG\" >"
   ]
  },
  {
   "cell_type": "markdown",
   "metadata": {},
   "source": [
    "### Conclusion 1: \n",
    "\n",
    "According to my plot, most of the retweet are below 40000 and most of the favorite count are below 80000. No matter what stage it is, there seems to be more favorite counts than retweet counts, which is understandable. An interesting finding is that doggo, puppo and pupper seem to gain more retweets and favorite counts. Dog stage is very likely a factor affecting the retweet counts and favorite counts."
   ]
  },
  {
   "cell_type": "code",
   "execution_count": null,
   "metadata": {},
   "outputs": [],
   "source": []
  },
  {
   "cell_type": "markdown",
   "metadata": {},
   "source": [
    "### 2. Does the timestamp have relation with favorite_count and retweet_count ?"
   ]
  },
  {
   "cell_type": "markdown",
   "metadata": {},
   "source": [
    "<img src = \"Number of Tweets Posted over Different Time Period.PNG\" >"
   ]
  },
  {
   "cell_type": "code",
   "execution_count": null,
   "metadata": {},
   "outputs": [],
   "source": []
  },
  {
   "cell_type": "markdown",
   "metadata": {},
   "source": [
    "<img src = \"The Relationship between Time and Retweet Counts & Favorite Counts.PNG\" >"
   ]
  },
  {
   "cell_type": "markdown",
   "metadata": {},
   "source": [
    "### Conclusion 2:\n",
    "\n",
    "According to the plot, we can see there are two activity peaks 0-3 and 16-17. Users like to post tweets either at the time before off work or late night(even 3 am belongs to early morning but It is more likely they stay late until 3 am rather than they get up at 3 am to post tweets).\n",
    "\n",
    "It is shown that tweets posted at evening time or late night gains more retweets and favorites. It is generally consistent with the two activity peaks. More users are active at the peorids, which generate more retweets and favorite counts."
   ]
  },
  {
   "cell_type": "code",
   "execution_count": null,
   "metadata": {},
   "outputs": [],
   "source": []
  },
  {
   "cell_type": "markdown",
   "metadata": {},
   "source": [
    "### 3. What are the top breads ?"
   ]
  },
  {
   "cell_type": "markdown",
   "metadata": {},
   "source": [
    "<img src = \"Breeds People Like to Tweet the Most.png\" >"
   ]
  },
  {
   "cell_type": "markdown",
   "metadata": {},
   "source": [
    "### Conclusion 3 : \n",
    "\n",
    "There is a large number of unidentifiable breed. I tried to investigate the reasons. One reason is that the picture has nothing to do with dogs. They are totally unrelated tweets. The top 3 popular tweeted breeds are golden retriever , labrador retriever and pembroke."
   ]
  },
  {
   "cell_type": "code",
   "execution_count": null,
   "metadata": {},
   "outputs": [],
   "source": []
  }
 ],
 "metadata": {
  "kernelspec": {
   "display_name": "Python 3",
   "language": "python",
   "name": "python3"
  },
  "language_info": {
   "codemirror_mode": {
    "name": "ipython",
    "version": 3
   },
   "file_extension": ".py",
   "mimetype": "text/x-python",
   "name": "python",
   "nbconvert_exporter": "python",
   "pygments_lexer": "ipython3",
   "version": "3.6.6"
  }
 },
 "nbformat": 4,
 "nbformat_minor": 2
}
